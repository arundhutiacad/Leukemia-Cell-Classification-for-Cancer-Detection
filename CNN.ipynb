{
 "cells": [
  {
   "cell_type": "code",
   "execution_count": 1,
   "id": "c546f793",
   "metadata": {},
   "outputs": [],
   "source": [
    "#importing necessary libraries\n",
    "import os\n",
    "import pandas as pd\n",
    "import numpy as np\n",
    "import matplotlib.pyplot as plt\n",
    "import seaborn as sns\n",
    "from warnings import filterwarnings\n",
    "filterwarnings('ignore')\n",
    "\n",
    "\n",
    "#importing libraries for machine learning\n",
    "from sklearn.metrics import confusion_matrix\n",
    "from sklearn.metrics import classification_report\n",
    "from sklearn.model_selection import train_test_split\n",
    "\n",
    "import cv2 as cv\n",
    "from tensorflow.keras.optimizers import Adam\n",
    "from keras import optimizers\n",
    "from keras.models import Sequential\n",
    "from keras.regularizers import l2\n",
    "from keras.layers import Dense, Conv2D, Flatten, MaxPool2D, Dropout, BatchNormalization"
   ]
  },
  {
   "cell_type": "markdown",
   "id": "a6ce7b58",
   "metadata": {
    "papermill": {
     "duration": 0.016285,
     "end_time": "2023-01-13T19:56:44.071275",
     "exception": false,
     "start_time": "2023-01-13T19:56:44.054990",
     "status": "completed"
    },
    "tags": []
   },
   "source": [
    "## Implementing Convolutional Neural Network"
   ]
  },
  {
   "cell_type": "code",
   "execution_count": 16,
   "id": "a9f4aa3e",
   "metadata": {
    "_kg_hide-input": true,
    "execution": {
     "iopub.execute_input": "2023-01-13T19:56:44.385831Z",
     "iopub.status.busy": "2023-01-13T19:56:44.385248Z",
     "iopub.status.idle": "2023-01-13T19:56:44.390274Z",
     "shell.execute_reply": "2023-01-13T19:56:44.389207Z"
    },
    "papermill": {
     "duration": 0.024205,
     "end_time": "2023-01-13T19:56:44.392510",
     "exception": false,
     "start_time": "2023-01-13T19:56:44.368305",
     "status": "completed"
    },
    "tags": []
   },
   "outputs": [],
   "source": [
    "if USE_LESS_DATA:\n",
    "    df_train = df_train[:5000]\n",
    "    df_val = df_val[:1000]"
   ]
  },
  {
   "cell_type": "code",
   "execution_count": 17,
   "id": "c4b4b64d",
   "metadata": {
    "_kg_hide-input": true,
    "execution": {
     "iopub.execute_input": "2023-01-13T19:56:44.426280Z",
     "iopub.status.busy": "2023-01-13T19:56:44.425990Z",
     "iopub.status.idle": "2023-01-13T19:58:23.919587Z",
     "shell.execute_reply": "2023-01-13T19:58:23.918470Z"
    },
    "papermill": {
     "duration": 99.513811,
     "end_time": "2023-01-13T19:58:23.922663",
     "exception": false,
     "start_time": "2023-01-13T19:56:44.408852",
     "status": "completed"
    },
    "tags": []
   },
   "outputs": [],
   "source": [
    "#Applying Crop preprocess\n",
    "X_train = df_train['image_paths'].apply(read_and_crop_image).values\n",
    "X_val = df_val['image_paths'].apply(read_and_crop_image).values\n",
    "\n",
    "y_train = df_train['image_labels'].values\n",
    "y_val = df_val['image_labels'].values\n",
    "\n",
    "X_train = np.stack(X_train, axis=0)\n",
    "X_val = np.stack(X_val, axis=0)\n",
    "\n",
    "#Expand dim to add channel info if image has 1 channel(Colorless)\n",
    "if not KEEP_COLOR:\n",
    "    X_train = np.expand_dims(X_train, axis=-1)\n",
    "    X_val = np.expand_dims(X_val, axis=-1)\n",
    "\n",
    "# Delete non used variables\n",
    "del(df_train)\n",
    "del(df_val)"
   ]
  },
  {
   "cell_type": "code",
   "execution_count": 18,
   "id": "6c5b877d",
   "metadata": {
    "_kg_hide-input": true,
    "execution": {
     "iopub.execute_input": "2023-01-13T19:58:23.989114Z",
     "iopub.status.busy": "2023-01-13T19:58:23.988775Z",
     "iopub.status.idle": "2023-01-13T19:58:24.883003Z",
     "shell.execute_reply": "2023-01-13T19:58:24.881564Z"
    },
    "papermill": {
     "duration": 0.914309,
     "end_time": "2023-01-13T19:58:24.885836",
     "exception": false,
     "start_time": "2023-01-13T19:58:23.971527",
     "status": "completed"
    },
    "tags": []
   },
   "outputs": [
    {
     "name": "stdout",
     "output_type": "stream",
     "text": [
      "X_train -> (4500, 200, 200, 1) \n",
      "y_train -> (4500,) \n",
      "\n",
      "X_test -> (500, 200, 200, 1) \n",
      "y_test -> (500,) \n",
      "\n",
      "X_val -> (1000, 200, 200, 1) \n",
      "y_val -> (1000,)\n"
     ]
    }
   ],
   "source": [
    "X_train, X_test, y_train, y_test = train_test_split(X_train, y_train, test_size=0.1, random_state = MAIN_SEED)\n",
    "\n",
    "print(\"X_train ->\",X_train.shape,\n",
    "      \"\\ny_train ->\",y_train.shape,\n",
    "      \"\\n\\nX_test ->\",X_test.shape,\n",
    "      \"\\ny_test ->\",y_test.shape,\n",
    "      \"\\n\\nX_val ->\",X_val.shape,\n",
    "      \"\\ny_val ->\",y_val.shape\n",
    ")"
   ]
  },
  {
   "cell_type": "markdown",
   "id": "3430a024",
   "metadata": {
    "papermill": {
     "duration": 0.015897,
     "end_time": "2023-01-13T19:58:24.918360",
     "exception": false,
     "start_time": "2023-01-13T19:58:24.902463",
     "status": "completed"
    },
    "tags": []
   },
   "source": [
    "## Preparing Bare CNN with Keras"
   ]
  },
  {
   "cell_type": "markdown",
   "id": "39ff0ae3",
   "metadata": {
    "papermill": {
     "duration": 0.015932,
     "end_time": "2023-01-13T19:58:24.950466",
     "exception": false,
     "start_time": "2023-01-13T19:58:24.934534",
     "status": "completed"
    },
    "tags": []
   },
   "source": [
    "#### Normalize Data\n",
    "\n",
    "* Standart 8 bit color means pixels has values from 0 to 255.\n",
    "* So we use min-max normalizer to normalize our features(pixels) from 0 to 1."
   ]
  },
  {
   "cell_type": "code",
   "execution_count": 19,
   "id": "482ef000",
   "metadata": {
    "_kg_hide-input": true,
    "execution": {
     "iopub.execute_input": "2023-01-13T19:58:24.983924Z",
     "iopub.status.busy": "2023-01-13T19:58:24.983039Z",
     "iopub.status.idle": "2023-01-13T19:58:25.546165Z",
     "shell.execute_reply": "2023-01-13T19:58:25.545116Z"
    },
    "papermill": {
     "duration": 0.582609,
     "end_time": "2023-01-13T19:58:25.548923",
     "exception": false,
     "start_time": "2023-01-13T19:58:24.966314",
     "status": "completed"
    },
    "tags": []
   },
   "outputs": [],
   "source": [
    "X_train = X_train / 255.0\n",
    "X_val = X_val / 255.0"
   ]
  },
  {
   "cell_type": "code",
   "execution_count": 20,
   "id": "7b07ec3d",
   "metadata": {
    "_kg_hide-input": true,
    "execution": {
     "iopub.execute_input": "2023-01-13T19:58:25.582726Z",
     "iopub.status.busy": "2023-01-13T19:58:25.581983Z",
     "iopub.status.idle": "2023-01-13T19:58:25.589983Z",
     "shell.execute_reply": "2023-01-13T19:58:25.588987Z"
    },
    "papermill": {
     "duration": 0.026865,
     "end_time": "2023-01-13T19:58:25.591977",
     "exception": false,
     "start_time": "2023-01-13T19:58:25.565112",
     "status": "completed"
    },
    "tags": []
   },
   "outputs": [
    {
     "data": {
      "text/plain": [
       "(200, 200, 1)"
      ]
     },
     "execution_count": 20,
     "metadata": {},
     "output_type": "execute_result"
    }
   ],
   "source": [
    "# We set input_shape\n",
    "if len(X_train.shape) > 3:\n",
    "    input_shape = X_train.shape[1:]\n",
    "else:\n",
    "    input_shape = (X_train.shape[1], X_train.shape[2], 1)\n",
    "input_shape"
   ]
  },
  {
   "cell_type": "code",
   "execution_count": 21,
   "id": "3f357d22",
   "metadata": {
    "_kg_hide-input": true,
    "execution": {
     "iopub.execute_input": "2023-01-13T19:58:25.658351Z",
     "iopub.status.busy": "2023-01-13T19:58:25.658011Z",
     "iopub.status.idle": "2023-01-13T19:58:33.764800Z",
     "shell.execute_reply": "2023-01-13T19:58:33.763817Z"
    },
    "papermill": {
     "duration": 8.126848,
     "end_time": "2023-01-13T19:58:33.767292",
     "exception": false,
     "start_time": "2023-01-13T19:58:25.640444",
     "status": "completed"
    },
    "tags": []
   },
   "outputs": [],
   "source": [
    "first_model = Sequential()\n",
    "first_model.add(Conv2D(filters = 2, kernel_size = (3,3),padding = 'same',activation ='relu', input_shape = input_shape))\n",
    "first_model.add(Conv2D(filters = 4, kernel_size = (3,3),padding = 'same',activation ='relu'))\n",
    "first_model.add(Conv2D(filters = 8, kernel_size = (5,5),padding = 'same',activation ='relu'))\n",
    "first_model.add(MaxPool2D(pool_size=(2,2)))\n",
    "first_model.add(Dropout(0.5))\n",
    "first_model.add(Conv2D(filters = 16, kernel_size = (5,5),padding = 'same',activation ='relu'))\n",
    "first_model.add(MaxPool2D(pool_size=(2,2)))\n",
    "first_model.add(Conv2D(filters = 24, kernel_size = (7,7),padding = 'same',activation ='relu'))\n",
    "first_model.add(Dropout(0.5))\n",
    "first_model.add(Flatten())\n",
    "first_model.add(Dense(64, kernel_regularizer=l2(1e-5), activation = \"relu\"))\n",
    "first_model.add(BatchNormalization())\n",
    "first_model.add(Dense(32, kernel_regularizer=l2(1e-5), activation = \"relu\"))\n",
    "first_model.add(Dense(32, kernel_regularizer=l2(1e-5), activation = \"relu\"))\n",
    "first_model.add(Dense(1, activation = \"sigmoid\"))"
   ]
  },
  {
   "cell_type": "markdown",
   "id": "c7bd67b1",
   "metadata": {
    "papermill": {
     "duration": 0.016066,
     "end_time": "2023-01-13T19:58:33.800007",
     "exception": false,
     "start_time": "2023-01-13T19:58:33.783941",
     "status": "completed"
    },
    "tags": []
   },
   "source": [
    "* This is our first model summary for first aproach"
   ]
  },
  {
   "cell_type": "code",
   "execution_count": 22,
   "id": "86fb893d",
   "metadata": {
    "execution": {
     "iopub.execute_input": "2023-01-13T19:58:33.833347Z",
     "iopub.status.busy": "2023-01-13T19:58:33.832487Z",
     "iopub.status.idle": "2023-01-13T19:58:33.839419Z",
     "shell.execute_reply": "2023-01-13T19:58:33.838360Z"
    },
    "papermill": {
     "duration": 0.026783,
     "end_time": "2023-01-13T19:58:33.842742",
     "exception": false,
     "start_time": "2023-01-13T19:58:33.815959",
     "status": "completed"
    },
    "tags": []
   },
   "outputs": [
    {
     "name": "stdout",
     "output_type": "stream",
     "text": [
      "Model: \"sequential\"\n",
      "_________________________________________________________________\n",
      " Layer (type)                Output Shape              Param #   \n",
      "=================================================================\n",
      " conv2d (Conv2D)             (None, 200, 200, 2)       20        \n",
      "                                                                 \n",
      " conv2d_1 (Conv2D)           (None, 200, 200, 4)       76        \n",
      "                                                                 \n",
      " conv2d_2 (Conv2D)           (None, 200, 200, 8)       808       \n",
      "                                                                 \n",
      " max_pooling2d (MaxPooling2D  (None, 100, 100, 8)      0         \n",
      " )                                                               \n",
      "                                                                 \n",
      " dropout (Dropout)           (None, 100, 100, 8)       0         \n",
      "                                                                 \n",
      " conv2d_3 (Conv2D)           (None, 100, 100, 16)      3216      \n",
      "                                                                 \n",
      " max_pooling2d_1 (MaxPooling  (None, 50, 50, 16)       0         \n",
      " 2D)                                                             \n",
      "                                                                 \n",
      " conv2d_4 (Conv2D)           (None, 50, 50, 24)        18840     \n",
      "                                                                 \n",
      " dropout_1 (Dropout)         (None, 50, 50, 24)        0         \n",
      "                                                                 \n",
      " flatten (Flatten)           (None, 60000)             0         \n",
      "                                                                 \n",
      " dense (Dense)               (None, 64)                3840064   \n",
      "                                                                 \n",
      " batch_normalization (BatchN  (None, 64)               256       \n",
      " ormalization)                                                   \n",
      "                                                                 \n",
      " dense_1 (Dense)             (None, 32)                2080      \n",
      "                                                                 \n",
      " dense_2 (Dense)             (None, 32)                1056      \n",
      "                                                                 \n",
      " dense_3 (Dense)             (None, 1)                 33        \n",
      "                                                                 \n",
      "=================================================================\n",
      "Total params: 3,866,449\n",
      "Trainable params: 3,866,321\n",
      "Non-trainable params: 128\n",
      "_________________________________________________________________\n"
     ]
    }
   ],
   "source": [
    "first_model.summary()"
   ]
  },
  {
   "cell_type": "markdown",
   "id": "f118bafc",
   "metadata": {
    "papermill": {
     "duration": 0.01581,
     "end_time": "2023-01-13T19:58:33.876114",
     "exception": false,
     "start_time": "2023-01-13T19:58:33.860304",
     "status": "completed"
    },
    "tags": []
   },
   "source": [
    "* Train model"
   ]
  },
  {
   "cell_type": "code",
   "execution_count": 23,
   "id": "9e25b92c",
   "metadata": {
    "_kg_hide-input": true,
    "execution": {
     "iopub.execute_input": "2023-01-13T19:58:33.908663Z",
     "iopub.status.busy": "2023-01-13T19:58:33.908390Z",
     "iopub.status.idle": "2023-01-13T20:01:58.750118Z",
     "shell.execute_reply": "2023-01-13T20:01:58.749062Z"
    },
    "papermill": {
     "duration": 204.860887,
     "end_time": "2023-01-13T20:01:58.752811",
     "exception": false,
     "start_time": "2023-01-13T19:58:33.891924",
     "status": "completed"
    },
    "tags": []
   },
   "outputs": [
    {
     "name": "stdout",
     "output_type": "stream",
     "text": [
      "Epoch 1/50\n",
      "141/141 [==============================] - 47s 325ms/step - loss: 0.6655 - accuracy: 0.6840 - val_loss: 1.1865 - val_accuracy: 0.6620\n",
      "Epoch 2/50\n",
      "141/141 [==============================] - 46s 324ms/step - loss: 0.6376 - accuracy: 0.7047 - val_loss: 0.8475 - val_accuracy: 0.5160\n",
      "Epoch 3/50\n",
      "141/141 [==============================] - 47s 330ms/step - loss: 0.6264 - accuracy: 0.7213 - val_loss: 0.9616 - val_accuracy: 0.6610\n",
      "Epoch 4/50\n",
      "141/141 [==============================] - 45s 320ms/step - loss: 0.6378 - accuracy: 0.7129 - val_loss: 0.7684 - val_accuracy: 0.6250\n",
      "Epoch 5/50\n",
      "141/141 [==============================] - 45s 322ms/step - loss: 0.6219 - accuracy: 0.7262 - val_loss: 0.7694 - val_accuracy: 0.6070\n",
      "Epoch 6/50\n",
      "141/141 [==============================] - 45s 317ms/step - loss: 0.6203 - accuracy: 0.7204 - val_loss: 0.7623 - val_accuracy: 0.5680\n",
      "Epoch 7/50\n",
      "141/141 [==============================] - 45s 322ms/step - loss: 0.6118 - accuracy: 0.7307 - val_loss: 0.7813 - val_accuracy: 0.6570\n",
      "Epoch 8/50\n",
      "141/141 [==============================] - 44s 315ms/step - loss: 0.6271 - accuracy: 0.7269 - val_loss: 0.7650 - val_accuracy: 0.6540\n",
      "Epoch 9/50\n",
      "141/141 [==============================] - 46s 324ms/step - loss: 0.6359 - accuracy: 0.7249 - val_loss: 0.7793 - val_accuracy: 0.6350\n",
      "Epoch 10/50\n",
      "141/141 [==============================] - 44s 314ms/step - loss: 0.6147 - accuracy: 0.7344 - val_loss: 0.7814 - val_accuracy: 0.6540\n",
      "Epoch 11/50\n",
      "141/141 [==============================] - 45s 322ms/step - loss: 0.6127 - accuracy: 0.7438 - val_loss: 0.7355 - val_accuracy: 0.6590\n",
      "Epoch 12/50\n",
      "141/141 [==============================] - 46s 328ms/step - loss: 0.6015 - accuracy: 0.7449 - val_loss: 0.7991 - val_accuracy: 0.6610\n",
      "Epoch 13/50\n",
      "141/141 [==============================] - 47s 335ms/step - loss: 0.6017 - accuracy: 0.7524 - val_loss: 0.8487 - val_accuracy: 0.6600\n",
      "Epoch 14/50\n",
      "141/141 [==============================] - 46s 325ms/step - loss: 0.6154 - accuracy: 0.7540 - val_loss: 0.7320 - val_accuracy: 0.6510\n",
      "Epoch 15/50\n",
      "141/141 [==============================] - 46s 325ms/step - loss: 0.6052 - accuracy: 0.7624 - val_loss: 0.8960 - val_accuracy: 0.6610\n",
      "Epoch 16/50\n",
      "141/141 [==============================] - 46s 327ms/step - loss: 0.5983 - accuracy: 0.7696 - val_loss: 0.7604 - val_accuracy: 0.6600\n",
      "Epoch 17/50\n",
      "141/141 [==============================] - 45s 321ms/step - loss: 0.5927 - accuracy: 0.7778 - val_loss: 0.9469 - val_accuracy: 0.6620\n",
      "Epoch 18/50\n",
      "141/141 [==============================] - 46s 325ms/step - loss: 0.5879 - accuracy: 0.7831 - val_loss: 0.9887 - val_accuracy: 0.6670\n",
      "Epoch 19/50\n",
      "141/141 [==============================] - 46s 324ms/step - loss: 0.5911 - accuracy: 0.7913 - val_loss: 0.8797 - val_accuracy: 0.6650\n",
      "Epoch 20/50\n",
      "141/141 [==============================] - 46s 325ms/step - loss: 0.5910 - accuracy: 0.7964 - val_loss: 1.0094 - val_accuracy: 0.6610\n",
      "Epoch 21/50\n",
      "141/141 [==============================] - 41s 290ms/step - loss: 0.5800 - accuracy: 0.8022 - val_loss: 0.8782 - val_accuracy: 0.6590\n",
      "Epoch 22/50\n",
      "141/141 [==============================] - 43s 302ms/step - loss: 0.5825 - accuracy: 0.8102 - val_loss: 1.1102 - val_accuracy: 0.6660\n",
      "Epoch 23/50\n",
      "141/141 [==============================] - 41s 292ms/step - loss: 0.5707 - accuracy: 0.8167 - val_loss: 1.0785 - val_accuracy: 0.6700\n",
      "Epoch 24/50\n",
      "141/141 [==============================] - 41s 288ms/step - loss: 0.5791 - accuracy: 0.8224 - val_loss: 1.2483 - val_accuracy: 0.6660\n",
      "Epoch 25/50\n",
      "141/141 [==============================] - 42s 298ms/step - loss: 0.5714 - accuracy: 0.8360 - val_loss: 0.9279 - val_accuracy: 0.6700\n",
      "Epoch 26/50\n",
      "141/141 [==============================] - 40s 286ms/step - loss: 0.5742 - accuracy: 0.8391 - val_loss: 1.0990 - val_accuracy: 0.6580\n",
      "Epoch 27/50\n",
      "141/141 [==============================] - 41s 292ms/step - loss: 0.5669 - accuracy: 0.8420 - val_loss: 1.0111 - val_accuracy: 0.6820\n",
      "Epoch 28/50\n",
      "141/141 [==============================] - 40s 287ms/step - loss: 0.5577 - accuracy: 0.8489 - val_loss: 1.2896 - val_accuracy: 0.6630\n",
      "Epoch 29/50\n",
      "141/141 [==============================] - 42s 297ms/step - loss: 0.5562 - accuracy: 0.8598 - val_loss: 1.0666 - val_accuracy: 0.6640\n",
      "Epoch 30/50\n",
      "141/141 [==============================] - 40s 286ms/step - loss: 0.5608 - accuracy: 0.8638 - val_loss: 1.1285 - val_accuracy: 0.6700\n",
      "Epoch 31/50\n",
      "141/141 [==============================] - 41s 292ms/step - loss: 0.5372 - accuracy: 0.8698 - val_loss: 1.1514 - val_accuracy: 0.6700\n",
      "Epoch 32/50\n",
      "141/141 [==============================] - 41s 290ms/step - loss: 0.5495 - accuracy: 0.8651 - val_loss: 1.0335 - val_accuracy: 0.6470\n",
      "Epoch 33/50\n",
      "141/141 [==============================] - 40s 284ms/step - loss: 0.5361 - accuracy: 0.8769 - val_loss: 1.2648 - val_accuracy: 0.6650\n",
      "Epoch 34/50\n",
      "141/141 [==============================] - 41s 291ms/step - loss: 0.5307 - accuracy: 0.8838 - val_loss: 1.0853 - val_accuracy: 0.6750\n",
      "Epoch 35/50\n",
      "141/141 [==============================] - 42s 298ms/step - loss: 0.5191 - accuracy: 0.8940 - val_loss: 1.8830 - val_accuracy: 0.6630\n",
      "Epoch 36/50\n",
      "141/141 [==============================] - 41s 290ms/step - loss: 0.5241 - accuracy: 0.8851 - val_loss: 1.7829 - val_accuracy: 0.6620\n",
      "Epoch 37/50\n",
      "141/141 [==============================] - 41s 289ms/step - loss: 0.5192 - accuracy: 0.8987 - val_loss: 1.5867 - val_accuracy: 0.6590\n",
      "Epoch 38/50\n",
      "141/141 [==============================] - 40s 285ms/step - loss: 0.5085 - accuracy: 0.9022 - val_loss: 1.4990 - val_accuracy: 0.6530\n",
      "Epoch 39/50\n",
      "141/141 [==============================] - 41s 292ms/step - loss: 0.5154 - accuracy: 0.9029 - val_loss: 1.3837 - val_accuracy: 0.6780\n",
      "Epoch 40/50\n",
      "141/141 [==============================] - 41s 289ms/step - loss: 0.4882 - accuracy: 0.9153 - val_loss: 1.5420 - val_accuracy: 0.6770\n",
      "Epoch 41/50\n",
      "141/141 [==============================] - 42s 296ms/step - loss: 0.5076 - accuracy: 0.9042 - val_loss: 1.3486 - val_accuracy: 0.6640\n",
      "Epoch 42/50\n",
      "141/141 [==============================] - 41s 289ms/step - loss: 0.4937 - accuracy: 0.9051 - val_loss: 1.5726 - val_accuracy: 0.6640\n",
      "Epoch 43/50\n",
      "141/141 [==============================] - 41s 293ms/step - loss: 0.4845 - accuracy: 0.9151 - val_loss: 1.3696 - val_accuracy: 0.6580\n",
      "Epoch 44/50\n",
      "141/141 [==============================] - 40s 286ms/step - loss: 0.4834 - accuracy: 0.9149 - val_loss: 1.1899 - val_accuracy: 0.6750\n",
      "Epoch 45/50\n",
      "141/141 [==============================] - 42s 299ms/step - loss: 0.4786 - accuracy: 0.9162 - val_loss: 1.6698 - val_accuracy: 0.6630\n",
      "Epoch 46/50\n",
      "141/141 [==============================] - 40s 285ms/step - loss: 0.4834 - accuracy: 0.9144 - val_loss: 1.7954 - val_accuracy: 0.6690\n",
      "Epoch 47/50\n",
      "141/141 [==============================] - 41s 288ms/step - loss: 0.4799 - accuracy: 0.9158 - val_loss: 1.3661 - val_accuracy: 0.6610\n",
      "Epoch 48/50\n",
      "141/141 [==============================] - 40s 285ms/step - loss: 0.4747 - accuracy: 0.9264 - val_loss: 1.6884 - val_accuracy: 0.6550\n",
      "Epoch 49/50\n",
      "141/141 [==============================] - 41s 290ms/step - loss: 0.4624 - accuracy: 0.9282 - val_loss: 1.7871 - val_accuracy: 0.6680\n",
      "Epoch 50/50\n",
      "141/141 [==============================] - 42s 299ms/step - loss: 0.4594 - accuracy: 0.9262 - val_loss: 1.4552 - val_accuracy: 0.6650\n"
     ]
    }
   ],
   "source": [
    "optimizer = Adam(lr = LR)\n",
    "first_model.compile(optimizer = optimizer,loss = 'binary_crossentropy',metrics = ['accuracy'])\n",
    "\n",
    "first_model_trained = first_model.fit(X_train, y_train, batch_size=BATCH_SIZE, epochs = EPOCH, validation_data = (X_val, y_val))"
   ]
  },
  {
   "cell_type": "markdown",
   "id": "ad2f1ef5",
   "metadata": {
    "papermill": {
     "duration": 0.14522,
     "end_time": "2023-01-13T20:01:59.040316",
     "exception": false,
     "start_time": "2023-01-13T20:01:58.895096",
     "status": "completed"
    },
    "tags": []
   },
   "source": [
    "* Lets print the loss and acc graphs"
   ]
  },
  {
   "cell_type": "code",
   "execution_count": 24,
   "id": "6de3b837",
   "metadata": {
    "_kg_hide-input": true,
    "execution": {
     "iopub.execute_input": "2023-01-13T20:01:59.323753Z",
     "iopub.status.busy": "2023-01-13T20:01:59.323377Z",
     "iopub.status.idle": "2023-01-13T20:01:59.549042Z",
     "shell.execute_reply": "2023-01-13T20:01:59.548028Z"
    },
    "papermill": {
     "duration": 0.369607,
     "end_time": "2023-01-13T20:01:59.551390",
     "exception": false,
     "start_time": "2023-01-13T20:01:59.181783",
     "status": "completed"
    },
    "tags": []
   },
   "outputs": [
    {
     "data": {
      "image/png": "[encoded data removed]",
      "text/plain": [
       "<Figure size 640x480 with 1 Axes>"
      ]
     },
     "metadata": {},
     "output_type": "display_data"
    }
   ],
   "source": [
    "plt.plot(first_model_trained.history['accuracy'])\n",
    "plt.plot(first_model_trained.history['val_accuracy'])\n",
    "plt.title('Model Accuracy')\n",
    "plt.ylabel('accuracy')\n",
    "plt.xlabel('epoch')\n",
    "plt.legend(['train', 'val'], loc='upper left')\n",
    "plt.show()"
   ]
  },
  {
   "cell_type": "code",
   "execution_count": 25,
   "id": "89196ffe",
   "metadata": {
    "_kg_hide-input": true,
    "execution": {
     "iopub.execute_input": "2023-01-13T20:01:59.893207Z",
     "iopub.status.busy": "2023-01-13T20:01:59.892801Z",
     "iopub.status.idle": "2023-01-13T20:02:00.100185Z",
     "shell.execute_reply": "2023-01-13T20:02:00.099208Z"
    },
    "papermill": {
     "duration": 0.350086,
     "end_time": "2023-01-13T20:02:00.102288",
     "exception": false,
     "start_time": "2023-01-13T20:01:59.752202",
     "status": "completed"
    },
    "tags": []
   },
   "outputs": [
    {
     "data": {
      "image/png": "[encoded data removed]",
      "text/plain": [
       "<Figure size 640x480 with 1 Axes>"
      ]
     },
     "metadata": {},
     "output_type": "display_data"
    }
   ],
   "source": [
    "plt.plot(first_model_trained.history['loss'])\n",
    "plt.plot(first_model_trained.history['val_loss'])\n",
    "plt.title('Model Loss')\n",
    "plt.ylabel('loss')\n",
    "plt.xlabel('epoch')\n",
    "plt.legend(['train', 'val'], loc='upper left')\n",
    "plt.show()"
   ]
  },
  {
   "cell_type": "code",
   "execution_count": 26,
   "id": "df0da3cf",
   "metadata": {},
   "outputs": [],
   "source": [
    "# Reshape the input data to match the model's input shape\n",
    "X_test_reshaped = X_test.reshape(-1, 200, 200, 1)"
   ]
  },
  {
   "cell_type": "code",
   "execution_count": 27,
   "id": "2bc3a6fb",
   "metadata": {},
   "outputs": [
    {
     "name": "stdout",
     "output_type": "stream",
     "text": [
      "16/16 [==============================] - 1s 34ms/step\n"
     ]
    }
   ],
   "source": [
    "predicted = first_model.predict(X_test_reshaped)"
   ]
  },
  {
   "cell_type": "code",
   "execution_count": 28,
   "id": "81710f80",
   "metadata": {},
   "outputs": [],
   "source": [
    "# Assuming the provided array is named 'predictions'\n",
    "threshold = 0.5  # Adjust the threshold as needed\n",
    "\n",
    "# Convert continuous values to binary\n",
    "binary_predictions = np.where(predicted > threshold, 1, 0)\n",
    "\n",
    "# Now you can evaluate the binary predictions using classification metrics\n",
    "# For example, if you have the true labels stored in 'true_labels', you can calculate accuracy as follows:\n"
   ]
  },
  {
   "cell_type": "code",
   "execution_count": 30,
   "id": "24efb038",
   "metadata": {},
   "outputs": [
    {
     "data": {
      "image/png": "[encoded data removed]",
      "text/plain": [
       "<Figure size 640x480 with 2 Axes>"
      ]
     },
     "metadata": {},
     "output_type": "display_data"
    }
   ],
   "source": [
    "cf_matrix = confusion_matrix(y_test, binary_predictions)\n",
    "sns.heatmap(cf_matrix, cmap=\"PuBu\", annot=True, fmt='.0f')\n",
    "plt.show()"
   ]
  },
  {
   "cell_type": "code",
   "execution_count": 31,
   "id": "3567899c",
   "metadata": {},
   "outputs": [
    {
     "name": "stdout",
     "output_type": "stream",
     "text": [
      "              precision    recall  f1-score   support\n",
      "\n",
      "           0       0.00      0.00      0.00       166\n",
      "           1       0.67      1.00      0.80       334\n",
      "\n",
      "    accuracy                           0.67       500\n",
      "   macro avg       0.33      0.50      0.40       500\n",
      "weighted avg       0.45      0.67      0.54       500\n",
      "\n"
     ]
    }
   ],
   "source": [
    "print(classification_report(y_test, binary_predictions))"
   ]
  }
 ],
 "metadata": {
  "kernelspec": {
   "display_name": "Python 3 (ipykernel)",
   "language": "python",
   "name": "python3"
  },
  "language_info": {
   "codemirror_mode": {
    "name": "ipython",
    "version": 3
   },
   "file_extension": ".py",
   "mimetype": "text/x-python",
   "name": "python",
   "nbconvert_exporter": "python",
   "pygments_lexer": "ipython3",
   "version": "3.9.13"
  },
  "papermill": {
   "default_parameters": {},
   "duration": 1779.181256,
   "end_time": "2023-01-13T20:26:01.142956",
   "environment_variables": {},
   "exception": null,
   "input_path": "__notebook__.ipynb",
   "output_path": "__notebook__.ipynb",
   "parameters": {},
   "start_time": "2023-01-13T19:56:21.961700",
   "version": "2.3.4"
  }
 },
 "nbformat": 4,
 "nbformat_minor": 5
}
